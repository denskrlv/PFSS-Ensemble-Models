{
 "nbformat": 4,
 "nbformat_minor": 0,
 "metadata": {
  "colab": {
   "provenance": [],
   "machine_shape": "hm",
   "gpuType": "A100"
  },
  "kernelspec": {
   "name": "python3",
   "display_name": "Python 3 (ipykernel)",
   "language": "python"
  },
  "language_info": {
   "name": "python"
  },
  "accelerator": "GPU"
 },
 "cells": [
  {
   "metadata": {},
   "cell_type": "markdown",
   "source": "# Probabilistic Feature Subset Selection with Ensemble Models"
  },
  {
   "metadata": {
    "ExecuteTime": {
     "end_time": "2025-01-15T11:12:36.942093Z",
     "start_time": "2025-01-15T11:12:36.402840Z"
    }
   },
   "cell_type": "code",
   "source": [
    "import numpy as np\n",
    "import os\n",
    "import pandas as pd\n",
    "\n",
    "from sklearn.ensemble import RandomForestClassifier\n",
    "from sklearn.feature_selection import mutual_info_classif\n",
    "from sklearn.model_selection import train_test_split\n",
    "from src.utils import compute_feature_frequency, load_uci_dataset, train_ensemble_models"
   ],
   "outputs": [],
   "execution_count": 1
  },
  {
   "metadata": {},
   "cell_type": "markdown",
   "source": "## UCI Heart Failure Clinical Records Dataset"
  },
  {
   "metadata": {},
   "cell_type": "markdown",
   "source": "### Load Dataset"
  },
  {
   "metadata": {
    "ExecuteTime": {
     "end_time": "2025-01-15T11:12:41.622771Z",
     "start_time": "2025-01-15T11:12:40.047285Z"
    }
   },
   "cell_type": "code",
   "source": [
    "# Load dataset from UCI Machine Learning Repository if it does not exist\n",
    "FILE_PATH = \"../data/breast_cancer_clinical_records.csv\"\n",
    "\n",
    "if not os.path.exists(FILE_PATH):\n",
    "    breast_cancer_clinical_records_metadata, breast_cancer_clinical_records = load_uci_dataset(repo_id=15)\n",
    "    print(breast_cancer_clinical_records_metadata)\n",
    "    breast_cancer_clinical_records.to_csv(FILE_PATH, index=False)"
   ],
   "outputs": [
    {
     "name": "stdout",
     "output_type": "stream",
     "text": [
      "{'uci_id': 15, 'name': 'Breast Cancer Wisconsin (Original)', 'repository_url': 'https://archive.ics.uci.edu/dataset/15/breast+cancer+wisconsin+original', 'data_url': 'https://archive.ics.uci.edu/static/public/15/data.csv', 'abstract': 'Original Wisconsin Breast Cancer Database', 'area': 'Health and Medicine', 'tasks': ['Classification'], 'characteristics': ['Multivariate'], 'num_instances': 699, 'num_features': 9, 'feature_types': ['Integer'], 'demographics': [], 'target_col': ['Class'], 'index_col': ['Sample_code_number'], 'has_missing_values': 'yes', 'missing_values_symbol': 'NaN', 'year_of_dataset_creation': 1990, 'last_updated': 'Sun Mar 10 2024', 'dataset_doi': '10.24432/C5HP4Z', 'creators': ['WIlliam Wolberg'], 'intro_paper': None, 'additional_info': {'summary': \"Samples arrive periodically as Dr. Wolberg reports his clinical cases. The database therefore reflects this chronological grouping of the data. This grouping information appears immediately below, having been removed from the data itself:\\r\\n\\r\\nGroup 1: 367 instances (January 1989)\\r\\nGroup 2:  70 instances (October 1989)\\r\\nGroup 3:  31 instances (February 1990)\\r\\nGroup 4:  17 instances (April 1990)\\r\\nGroup 5:  48 instances (August 1990)\\r\\nGroup 6:  49 instances (Updated January 1991)\\r\\nGroup 7:  31 instances (June 1991)\\r\\nGroup 8:  86 instances (November 1991)\\r\\n-----------------------------------------\\r\\nTotal:   699 points (as of the donated datbase on 15 July 1992)\\r\\n\\r\\nNote that the results summarized above in Past Usage refer to a dataset of size 369, while Group 1 has only 367 instances.  This is because it originally contained 369 instances; 2 were removed.  The following statements summarizes changes to the original Group 1's set of data:\\r\\n\\r\\n#####  Group 1 : 367 points: 200B 167M (January 1989)\\r\\n\\r\\n#####  Revised Jan 10, 1991: Replaced zero bare nuclei in 1080185 & 1187805\\r\\n\\r\\n#####  Revised Nov 22,1991: Removed 765878,4,5,9,7,10,10,10,3,8,1 no record\\r\\n#####                  : Removed 484201,2,7,8,8,4,3,10,3,4,1 zero epithelial\\r\\n#####                  : Changed 0 to 1 in field 6 of sample 1219406\\r\\n#####                  : Changed 0 to 1 in field 8 of following sample:\\r\\n#####                  : 1182404,2,3,1,1,1,2,0,1,1,1\", 'purpose': None, 'funded_by': None, 'instances_represent': None, 'recommended_data_splits': None, 'sensitive_data': None, 'preprocessing_description': None, 'variable_info': '1. Sample code number:            id number\\r\\n2. Clump Thickness:               1 - 10\\r\\n3. Uniformity of Cell Size:       1 - 10\\r\\n4. Uniformity of Cell Shape:      1 - 10\\r\\n5. Marginal Adhesion:             1 - 10\\r\\n6. Single Epithelial Cell Size:   1 - 10\\r\\n7. Bare Nuclei:                   1 - 10\\r\\n8. Bland Chromatin:               1 - 10\\r\\n9. Normal Nucleoli:               1 - 10\\r\\n10. Mitoses:                       1 - 10\\r\\n11. Class:                        (2 for benign, 4 for malignant)', 'citation': 'This breast cancer databases was obtained from the University of Wisconsin Hospitals, Madison from Dr. William H. Wolberg.  If you publish results when using this database, then please include this information in your acknowledgements.  Also, please cite one or more of:\\n1. O. L. Mangasarian and W. H. Wolberg: \"Cancer diagnosis via linear programming\", SIAM News, Volume 23, Number 5, September 1990, pp 1 & 18.\\n2. William H. Wolberg and O.L. Mangasarian: \"Multisurface method of pattern separation for medical diagnosis applied to breast cytology\", Proceedings of the National Academy of Sciences, U.S.A., Volume 87, December 1990, pp 9193-9196.\\n3. O. L. Mangasarian, R. Setiono, and W.H. Wolberg: \"Pattern recognition via linear programming: Theory and application to medical diagnosis\", in: \"Large-scale numerical optimization\", Thomas F. Coleman and Yuying Li, editors, SIAM Publications, Philadelphia 1990, pp 22-30.\\n4. K. P. Bennett & O. L. Mangasarian: \"Robust linear programming discrimination of two linearly inseparable sets\", Optimization Methods and Software 1, 1992, 23-34 (Gordon & Breach Science Publishers).'}}\n"
     ]
    }
   ],
   "execution_count": 2
  },
  {
   "metadata": {
    "ExecuteTime": {
     "end_time": "2025-01-15T11:12:47.508328Z",
     "start_time": "2025-01-15T11:12:47.496497Z"
    }
   },
   "cell_type": "code",
   "source": [
    "# Load dataset from CSV file\n",
    "breast_cancer_clinical_records = pd.read_csv(FILE_PATH)\n",
    "print(\"Number of samples:\", len(breast_cancer_clinical_records))\n",
    "breast_cancer_clinical_records.head()"
   ],
   "outputs": [
    {
     "name": "stdout",
     "output_type": "stream",
     "text": [
      "Number of samples: 699\n"
     ]
    },
    {
     "data": {
      "text/plain": [
       "   Clump_thickness  Uniformity_of_cell_size  Uniformity_of_cell_shape  \\\n",
       "0                5                        1                         1   \n",
       "1                5                        4                         4   \n",
       "2                3                        1                         1   \n",
       "3                6                        8                         8   \n",
       "4                4                        1                         1   \n",
       "\n",
       "   Marginal_adhesion  Single_epithelial_cell_size  Bare_nuclei  \\\n",
       "0                  1                            2          1.0   \n",
       "1                  5                            7         10.0   \n",
       "2                  1                            2          2.0   \n",
       "3                  1                            3          4.0   \n",
       "4                  3                            2          1.0   \n",
       "\n",
       "   Bland_chromatin  Normal_nucleoli  Mitoses  Class  \n",
       "0                3                1        1      2  \n",
       "1                3                2        1      2  \n",
       "2                3                1        1      2  \n",
       "3                3                7        1      2  \n",
       "4                3                1        1      2  "
      ],
      "text/html": [
       "<div>\n",
       "<style scoped>\n",
       "    .dataframe tbody tr th:only-of-type {\n",
       "        vertical-align: middle;\n",
       "    }\n",
       "\n",
       "    .dataframe tbody tr th {\n",
       "        vertical-align: top;\n",
       "    }\n",
       "\n",
       "    .dataframe thead th {\n",
       "        text-align: right;\n",
       "    }\n",
       "</style>\n",
       "<table border=\"1\" class=\"dataframe\">\n",
       "  <thead>\n",
       "    <tr style=\"text-align: right;\">\n",
       "      <th></th>\n",
       "      <th>Clump_thickness</th>\n",
       "      <th>Uniformity_of_cell_size</th>\n",
       "      <th>Uniformity_of_cell_shape</th>\n",
       "      <th>Marginal_adhesion</th>\n",
       "      <th>Single_epithelial_cell_size</th>\n",
       "      <th>Bare_nuclei</th>\n",
       "      <th>Bland_chromatin</th>\n",
       "      <th>Normal_nucleoli</th>\n",
       "      <th>Mitoses</th>\n",
       "      <th>Class</th>\n",
       "    </tr>\n",
       "  </thead>\n",
       "  <tbody>\n",
       "    <tr>\n",
       "      <th>0</th>\n",
       "      <td>5</td>\n",
       "      <td>1</td>\n",
       "      <td>1</td>\n",
       "      <td>1</td>\n",
       "      <td>2</td>\n",
       "      <td>1.0</td>\n",
       "      <td>3</td>\n",
       "      <td>1</td>\n",
       "      <td>1</td>\n",
       "      <td>2</td>\n",
       "    </tr>\n",
       "    <tr>\n",
       "      <th>1</th>\n",
       "      <td>5</td>\n",
       "      <td>4</td>\n",
       "      <td>4</td>\n",
       "      <td>5</td>\n",
       "      <td>7</td>\n",
       "      <td>10.0</td>\n",
       "      <td>3</td>\n",
       "      <td>2</td>\n",
       "      <td>1</td>\n",
       "      <td>2</td>\n",
       "    </tr>\n",
       "    <tr>\n",
       "      <th>2</th>\n",
       "      <td>3</td>\n",
       "      <td>1</td>\n",
       "      <td>1</td>\n",
       "      <td>1</td>\n",
       "      <td>2</td>\n",
       "      <td>2.0</td>\n",
       "      <td>3</td>\n",
       "      <td>1</td>\n",
       "      <td>1</td>\n",
       "      <td>2</td>\n",
       "    </tr>\n",
       "    <tr>\n",
       "      <th>3</th>\n",
       "      <td>6</td>\n",
       "      <td>8</td>\n",
       "      <td>8</td>\n",
       "      <td>1</td>\n",
       "      <td>3</td>\n",
       "      <td>4.0</td>\n",
       "      <td>3</td>\n",
       "      <td>7</td>\n",
       "      <td>1</td>\n",
       "      <td>2</td>\n",
       "    </tr>\n",
       "    <tr>\n",
       "      <th>4</th>\n",
       "      <td>4</td>\n",
       "      <td>1</td>\n",
       "      <td>1</td>\n",
       "      <td>3</td>\n",
       "      <td>2</td>\n",
       "      <td>1.0</td>\n",
       "      <td>3</td>\n",
       "      <td>1</td>\n",
       "      <td>1</td>\n",
       "      <td>2</td>\n",
       "    </tr>\n",
       "  </tbody>\n",
       "</table>\n",
       "</div>"
      ]
     },
     "execution_count": 3,
     "metadata": {},
     "output_type": "execute_result"
    }
   ],
   "execution_count": 3
  },
  {
   "metadata": {},
   "cell_type": "markdown",
   "source": "### Preprocess Dataset"
  },
  {
   "metadata": {
    "ExecuteTime": {
     "end_time": "2025-01-15T10:39:29.936433Z",
     "start_time": "2025-01-15T10:39:29.933967Z"
    }
   },
   "cell_type": "code",
   "source": [
    "# Handle missing values by dropping rows with any missing values\n",
    "breast_cancer_clinical_records = breast_cancer_clinical_records.dropna()\n",
    "print(\"Number of samples:\", len(breast_cancer_clinical_records))"
   ],
   "outputs": [
    {
     "name": "stdout",
     "output_type": "stream",
     "text": [
      "Number of samples: 299\n"
     ]
    }
   ],
   "execution_count": 3
  },
  {
   "metadata": {
    "ExecuteTime": {
     "end_time": "2025-01-15T10:39:29.970705Z",
     "start_time": "2025-01-15T10:39:29.966764Z"
    }
   },
   "cell_type": "code",
   "source": [
    "# Separate features and target after dropping missing values\n",
    "X = breast_cancer_clinical_records.iloc[:, :-1]  # All columns except the last\n",
    "y = breast_cancer_clinical_records.iloc[:, -1]  # Last column as target\n",
    "\n",
    "# Encode target labels if necessary\n",
    "y = pd.factorize(y)[0]\n",
    "\n",
    "# Split the dataset\n",
    "X_train, X_test, y_train, y_test = train_test_split(X, y, test_size=0.3, stratify=y, random_state=42)"
   ],
   "outputs": [],
   "execution_count": 4
  },
  {
   "metadata": {},
   "cell_type": "markdown",
   "source": "### Assign Probabilities to Features using Mutual Information\n"
  },
  {
   "metadata": {
    "ExecuteTime": {
     "end_time": "2025-01-15T10:39:29.996743Z",
     "start_time": "2025-01-15T10:39:29.982233Z"
    }
   },
   "cell_type": "code",
   "source": [
    "mutual_info = mutual_info_classif(X_train, y_train)\n",
    "probabilities = mutual_info / np.sum(mutual_info)  # Normalize to create a probability distribution\n",
    "\n",
    "print(\"Feature Probabilities (Mutual Information):\")\n",
    "print(probabilities)"
   ],
   "outputs": [
    {
     "name": "stdout",
     "output_type": "stream",
     "text": [
      "Feature Probabilities (Mutual Information):\n",
      "[0.08333563 0.02014873 0.00677836 0.         0.18991753 0.\n",
      " 0.         0.19162453 0.         0.         0.         0.50819522]\n"
     ]
    }
   ],
   "execution_count": 5
  },
  {
   "metadata": {},
   "cell_type": "markdown",
   "source": "### Train Multiple Ensembles on Probabilistically Sampled Subsets\n"
  },
  {
   "metadata": {
    "ExecuteTime": {
     "end_time": "2025-01-15T10:39:30.646823Z",
     "start_time": "2025-01-15T10:39:30.009256Z"
    }
   },
   "cell_type": "code",
   "source": [
    "ensemble_results = train_ensemble_models(X_train, X_test, y_train, y_test, probabilities, n_ensembles=5, n_features_sample=5, random_state=42, verbose=True)\n",
    "\n",
    "results_df = pd.DataFrame(ensemble_results)\n",
    "results_df.groupby(\"Classifier\")[\"Accuracy\"].mean()"
   ],
   "outputs": [
    {
     "name": "stdout",
     "output_type": "stream",
     "text": [
      "\n",
      "Training Ensemble 1/5...\n",
      "Training Random Forest...\n",
      "Random Forest Accuracy: 0.8333\n",
      "Training Gradient Boosting...\n",
      "Gradient Boosting Accuracy: 0.8667\n",
      "Training AdaBoost...\n",
      "AdaBoost Accuracy: 0.8556\n",
      "Training Logistic Regression...\n",
      "Logistic Regression Accuracy: 0.8111\n",
      "Training SVM...\n",
      "SVM Accuracy: 0.7444\n",
      "Training LDA...\n",
      "LDA Accuracy: 0.8000\n",
      "\n",
      "Training Ensemble 2/5...\n",
      "Training Random Forest...\n",
      "Random Forest Accuracy: 0.8444\n",
      "Training Gradient Boosting...\n",
      "Gradient Boosting Accuracy: 0.8667\n",
      "Training AdaBoost...\n",
      "AdaBoost Accuracy: 0.8556\n",
      "Training Logistic Regression...\n",
      "Logistic Regression Accuracy: 0.8111\n",
      "Training SVM...\n",
      "SVM Accuracy: 0.7444\n",
      "Training LDA...\n",
      "LDA Accuracy: 0.8000\n",
      "\n",
      "Training Ensemble 3/5...\n",
      "Training Random Forest...\n",
      "Random Forest Accuracy: 0.8222\n",
      "Training Gradient Boosting...\n",
      "Gradient Boosting Accuracy: 0.8556\n",
      "Training AdaBoost...\n",
      "AdaBoost Accuracy: 0.8333\n",
      "Training Logistic Regression...\n",
      "Logistic Regression Accuracy: 0.8000\n",
      "Training SVM...\n",
      "SVM Accuracy: 0.8333\n",
      "Training LDA...\n",
      "LDA Accuracy: 0.8000\n",
      "\n",
      "Training Ensemble 4/5...\n",
      "Training Random Forest...\n",
      "Random Forest Accuracy: 0.8333\n",
      "Training Gradient Boosting...\n",
      "Gradient Boosting Accuracy: 0.8556\n",
      "Training AdaBoost...\n",
      "AdaBoost Accuracy: 0.8333\n",
      "Training Logistic Regression...\n",
      "Logistic Regression Accuracy: 0.8000\n",
      "Training SVM...\n",
      "SVM Accuracy: 0.8333\n",
      "Training LDA...\n",
      "LDA Accuracy: 0.8000\n",
      "\n",
      "Training Ensemble 5/5...\n",
      "Training Random Forest...\n",
      "Random Forest Accuracy: 0.8556\n",
      "Training Gradient Boosting...\n",
      "Gradient Boosting Accuracy: 0.8667\n",
      "Training AdaBoost...\n",
      "AdaBoost Accuracy: 0.8556\n",
      "Training Logistic Regression...\n",
      "Logistic Regression Accuracy: 0.8111\n",
      "Training SVM...\n",
      "SVM Accuracy: 0.7444\n",
      "Training LDA...\n",
      "LDA Accuracy: 0.8000\n"
     ]
    },
    {
     "data": {
      "text/plain": [
       "Classifier\n",
       "AdaBoost               0.846667\n",
       "Gradient Boosting      0.862222\n",
       "LDA                    0.800000\n",
       "Logistic Regression    0.806667\n",
       "Random Forest          0.837778\n",
       "SVM                    0.780000\n",
       "Name: Accuracy, dtype: float64"
      ]
     },
     "execution_count": 6,
     "metadata": {},
     "output_type": "execute_result"
    }
   ],
   "execution_count": 6
  },
  {
   "cell_type": "code",
   "source": [
    "# Analyze uncertainty in feature importance\n",
    "feature_frequency = compute_feature_frequency(ensemble_results, X_train.shape[1])\n",
    "\n",
    "print(\"\\nFeature Selection Frequency:\")\n",
    "print(feature_frequency)"
   ],
   "metadata": {
    "colab": {
     "base_uri": "https://localhost:8080/"
    },
    "id": "4gMeiCwsvlfh",
    "outputId": "75390383-eab7-49b9-98e0-b168a6cc86fc",
    "ExecuteTime": {
     "end_time": "2025-01-15T10:39:30.680305Z",
     "start_time": "2025-01-15T10:39:30.677616Z"
    }
   },
   "outputs": [
    {
     "name": "stdout",
     "output_type": "stream",
     "text": [
      "\n",
      "Feature Selection Frequency:\n",
      "[1.  0.4 0.6 0.  1.  0.  0.  1.  0.  0.  0.  1. ]\n"
     ]
    }
   ],
   "execution_count": 7
  },
  {
   "metadata": {},
   "cell_type": "markdown",
   "source": "### Assign probabilities to features using interaction scores"
  },
  {
   "metadata": {
    "ExecuteTime": {
     "end_time": "2025-01-15T10:39:30.806510Z",
     "start_time": "2025-01-15T10:39:30.740761Z"
    }
   },
   "cell_type": "code",
   "source": [
    "rf = RandomForestClassifier(random_state=42)\n",
    "rf.fit(X_train, y_train)\n",
    "feature_importances = rf.feature_importances_\n",
    "\n",
    "# Calculate pairwise interaction scores\n",
    "interaction_matrix = np.zeros((X_train.shape[1], X_train.shape[1]))\n",
    "for tree in rf.estimators_:\n",
    "    for feature_idx, importance in enumerate(tree.feature_importances_):\n",
    "        interaction_matrix[feature_idx] += importance\n",
    "\n",
    "interaction_scores = interaction_matrix.sum(axis=1) / rf.n_estimators\n",
    "probabilities = interaction_scores / interaction_scores.sum()\n",
    "\n",
    "print(\"Feature Probabilities (Interaction Scores):\")\n",
    "print(probabilities)"
   ],
   "outputs": [
    {
     "name": "stdout",
     "output_type": "stream",
     "text": [
      "Feature Probabilities (Interaction Scores):\n",
      "[0.08910293 0.01823446 0.06889207 0.01136961 0.10625269 0.01338873\n",
      " 0.07031262 0.15944837 0.08441427 0.01277598 0.01005281 0.35575545]\n"
     ]
    }
   ],
   "execution_count": 8
  },
  {
   "metadata": {},
   "cell_type": "markdown",
   "source": "### Train Multiple Ensembles on Probabilistically Sampled Subsets\n"
  },
  {
   "metadata": {
    "ExecuteTime": {
     "end_time": "2025-01-15T10:39:31.489810Z",
     "start_time": "2025-01-15T10:39:30.821453Z"
    }
   },
   "cell_type": "code",
   "source": [
    "ensemble_results = train_ensemble_models(X_train, X_test, y_train, y_test, probabilities, n_ensembles=5, n_features_sample=5, random_state=42, verbose=True)\n",
    "\n",
    "results_df = pd.DataFrame(ensemble_results)\n",
    "results_df.groupby(\"Classifier\")[\"Accuracy\"].mean()"
   ],
   "outputs": [
    {
     "name": "stdout",
     "output_type": "stream",
     "text": [
      "\n",
      "Training Ensemble 1/5...\n",
      "Training Random Forest...\n",
      "Random Forest Accuracy: 0.7778\n",
      "Training Gradient Boosting...\n",
      "Gradient Boosting Accuracy: 0.8111\n",
      "Training AdaBoost...\n",
      "AdaBoost Accuracy: 0.8556\n",
      "Training Logistic Regression...\n",
      "Logistic Regression Accuracy: 0.8222\n",
      "Training SVM...\n",
      "SVM Accuracy: 0.6778\n",
      "Training LDA...\n",
      "LDA Accuracy: 0.8111\n",
      "\n",
      "Training Ensemble 2/5...\n",
      "Training Random Forest...\n",
      "Random Forest Accuracy: 0.7333\n",
      "Training Gradient Boosting...\n",
      "Gradient Boosting Accuracy: 0.7111\n",
      "Training AdaBoost...\n",
      "AdaBoost Accuracy: 0.7000\n",
      "Training Logistic Regression...\n",
      "Logistic Regression Accuracy: 0.7333\n",
      "Training SVM...\n",
      "SVM Accuracy: 0.6778\n",
      "Training LDA...\n",
      "LDA Accuracy: 0.7333\n",
      "\n",
      "Training Ensemble 3/5...\n",
      "Training Random Forest...\n",
      "Random Forest Accuracy: 0.8444\n",
      "Training Gradient Boosting...\n",
      "Gradient Boosting Accuracy: 0.8778\n",
      "Training AdaBoost...\n",
      "AdaBoost Accuracy: 0.8222\n",
      "Training Logistic Regression...\n",
      "Logistic Regression Accuracy: 0.8222\n",
      "Training SVM...\n",
      "SVM Accuracy: 0.7444\n",
      "Training LDA...\n",
      "LDA Accuracy: 0.8111\n",
      "\n",
      "Training Ensemble 4/5...\n",
      "Training Random Forest...\n",
      "Random Forest Accuracy: 0.8556\n",
      "Training Gradient Boosting...\n",
      "Gradient Boosting Accuracy: 0.8333\n",
      "Training AdaBoost...\n",
      "AdaBoost Accuracy: 0.8111\n",
      "Training Logistic Regression...\n",
      "Logistic Regression Accuracy: 0.7889\n",
      "Training SVM...\n",
      "SVM Accuracy: 0.7333\n",
      "Training LDA...\n",
      "LDA Accuracy: 0.7778\n",
      "\n",
      "Training Ensemble 5/5...\n",
      "Training Random Forest...\n",
      "Random Forest Accuracy: 0.8000\n",
      "Training Gradient Boosting...\n",
      "Gradient Boosting Accuracy: 0.8444\n",
      "Training AdaBoost...\n",
      "AdaBoost Accuracy: 0.8333\n",
      "Training Logistic Regression...\n",
      "Logistic Regression Accuracy: 0.8111\n",
      "Training SVM...\n",
      "SVM Accuracy: 0.7444\n",
      "Training LDA...\n",
      "LDA Accuracy: 0.7889\n"
     ]
    },
    {
     "data": {
      "text/plain": [
       "Classifier\n",
       "AdaBoost               0.804444\n",
       "Gradient Boosting      0.815556\n",
       "LDA                    0.784444\n",
       "Logistic Regression    0.795556\n",
       "Random Forest          0.802222\n",
       "SVM                    0.715556\n",
       "Name: Accuracy, dtype: float64"
      ]
     },
     "execution_count": 9,
     "metadata": {},
     "output_type": "execute_result"
    }
   ],
   "execution_count": 9
  },
  {
   "metadata": {},
   "cell_type": "markdown",
   "source": "### Analyze uncertainty in feature importance"
  },
  {
   "metadata": {
    "ExecuteTime": {
     "end_time": "2025-01-15T10:39:31.533295Z",
     "start_time": "2025-01-15T10:39:31.529975Z"
    }
   },
   "cell_type": "code",
   "source": [
    "# Analyze uncertainty in feature importance\n",
    "feature_frequency = compute_feature_frequency(ensemble_results, X_train.shape[1])\n",
    "\n",
    "print(\"\\nFeature Selection Frequency:\")\n",
    "print(feature_frequency)"
   ],
   "outputs": [
    {
     "name": "stdout",
     "output_type": "stream",
     "text": [
      "\n",
      "Feature Selection Frequency:\n",
      "[0.2 0.2 0.8 0.  0.8 0.2 0.4 0.8 0.8 0.  0.  0.8]\n"
     ]
    }
   ],
   "execution_count": 10
  }
 ]
}
